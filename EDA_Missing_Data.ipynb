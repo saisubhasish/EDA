{
 "cells": [
  {
   "cell_type": "markdown",
   "id": "ec98ba0f",
   "metadata": {},
   "source": [
    "# Imputing Missing Data"
   ]
  },
  {
   "cell_type": "markdown",
   "id": "2fd05ac8",
   "metadata": {},
   "source": [
    "Removing observations with missing data\n",
    "\n",
    "Performing mean or median imputation\n",
    "\n",
    "Implementing mode or frequent category imputation\n",
    "\n",
    "Replacing missing values with an arbitrary number\n",
    "\n",
    "Capturing missing values in a bespoke category\n",
    "\n",
    "Replacing missing values with a value at the end of the distribution\n",
    "\n",
    "Implementing random sample imputation\n",
    "\n",
    "Adding a missing value indicator variable\n",
    "\n",
    "Performing multivariate imputation by chained equations\n",
    "\n",
    "Assembling an imputation pipeline with scikit-learn\n",
    "\n",
    "Assembling an imputation pipeline with Feature-engine"
   ]
  },
  {
   "cell_type": "code",
   "execution_count": 19,
   "id": "f2c0e41d",
   "metadata": {},
   "outputs": [],
   "source": [
    "import random\n",
    "import pandas as pd\n",
    "import numpy as np"
   ]
  },
  {
   "cell_type": "code",
   "execution_count": 22,
   "id": "dca459c5",
   "metadata": {},
   "outputs": [],
   "source": [
    "data = pd.read_csv('D:/FSDS-iNeuron/3.Resource/Dataset/crx.data', header=None)"
   ]
  },
  {
   "cell_type": "code",
   "execution_count": 24,
   "id": "7e924e77",
   "metadata": {},
   "outputs": [],
   "source": [
    "varnames = ['A'+str(s) for s in range(1,17)]"
   ]
  },
  {
   "cell_type": "code",
   "execution_count": 27,
   "id": "b78b7e03",
   "metadata": {},
   "outputs": [],
   "source": [
    "data.columns = varnames"
   ]
  },
  {
   "cell_type": "code",
   "execution_count": 28,
   "id": "5e00ceaf",
   "metadata": {},
   "outputs": [
    {
     "data": {
      "text/html": [
       "<div>\n",
       "<style scoped>\n",
       "    .dataframe tbody tr th:only-of-type {\n",
       "        vertical-align: middle;\n",
       "    }\n",
       "\n",
       "    .dataframe tbody tr th {\n",
       "        vertical-align: top;\n",
       "    }\n",
       "\n",
       "    .dataframe thead th {\n",
       "        text-align: right;\n",
       "    }\n",
       "</style>\n",
       "<table border=\"1\" class=\"dataframe\">\n",
       "  <thead>\n",
       "    <tr style=\"text-align: right;\">\n",
       "      <th></th>\n",
       "      <th>A1</th>\n",
       "      <th>A2</th>\n",
       "      <th>A3</th>\n",
       "      <th>A4</th>\n",
       "      <th>A5</th>\n",
       "      <th>A6</th>\n",
       "      <th>A7</th>\n",
       "      <th>A8</th>\n",
       "      <th>A9</th>\n",
       "      <th>A10</th>\n",
       "      <th>A11</th>\n",
       "      <th>A12</th>\n",
       "      <th>A13</th>\n",
       "      <th>A14</th>\n",
       "      <th>A15</th>\n",
       "      <th>A16</th>\n",
       "    </tr>\n",
       "  </thead>\n",
       "  <tbody>\n",
       "    <tr>\n",
       "      <th>0</th>\n",
       "      <td>b</td>\n",
       "      <td>30.83</td>\n",
       "      <td>0.000</td>\n",
       "      <td>u</td>\n",
       "      <td>g</td>\n",
       "      <td>w</td>\n",
       "      <td>v</td>\n",
       "      <td>1.25</td>\n",
       "      <td>t</td>\n",
       "      <td>t</td>\n",
       "      <td>1</td>\n",
       "      <td>f</td>\n",
       "      <td>g</td>\n",
       "      <td>00202</td>\n",
       "      <td>0</td>\n",
       "      <td>+</td>\n",
       "    </tr>\n",
       "    <tr>\n",
       "      <th>1</th>\n",
       "      <td>a</td>\n",
       "      <td>58.67</td>\n",
       "      <td>4.460</td>\n",
       "      <td>u</td>\n",
       "      <td>g</td>\n",
       "      <td>q</td>\n",
       "      <td>h</td>\n",
       "      <td>3.04</td>\n",
       "      <td>t</td>\n",
       "      <td>t</td>\n",
       "      <td>6</td>\n",
       "      <td>f</td>\n",
       "      <td>g</td>\n",
       "      <td>00043</td>\n",
       "      <td>560</td>\n",
       "      <td>+</td>\n",
       "    </tr>\n",
       "    <tr>\n",
       "      <th>2</th>\n",
       "      <td>a</td>\n",
       "      <td>24.50</td>\n",
       "      <td>0.500</td>\n",
       "      <td>u</td>\n",
       "      <td>g</td>\n",
       "      <td>q</td>\n",
       "      <td>h</td>\n",
       "      <td>1.50</td>\n",
       "      <td>t</td>\n",
       "      <td>f</td>\n",
       "      <td>0</td>\n",
       "      <td>f</td>\n",
       "      <td>g</td>\n",
       "      <td>00280</td>\n",
       "      <td>824</td>\n",
       "      <td>+</td>\n",
       "    </tr>\n",
       "    <tr>\n",
       "      <th>3</th>\n",
       "      <td>b</td>\n",
       "      <td>27.83</td>\n",
       "      <td>1.540</td>\n",
       "      <td>u</td>\n",
       "      <td>g</td>\n",
       "      <td>w</td>\n",
       "      <td>v</td>\n",
       "      <td>3.75</td>\n",
       "      <td>t</td>\n",
       "      <td>t</td>\n",
       "      <td>5</td>\n",
       "      <td>t</td>\n",
       "      <td>g</td>\n",
       "      <td>00100</td>\n",
       "      <td>3</td>\n",
       "      <td>+</td>\n",
       "    </tr>\n",
       "    <tr>\n",
       "      <th>4</th>\n",
       "      <td>b</td>\n",
       "      <td>20.17</td>\n",
       "      <td>5.625</td>\n",
       "      <td>u</td>\n",
       "      <td>g</td>\n",
       "      <td>w</td>\n",
       "      <td>v</td>\n",
       "      <td>1.71</td>\n",
       "      <td>t</td>\n",
       "      <td>f</td>\n",
       "      <td>0</td>\n",
       "      <td>f</td>\n",
       "      <td>s</td>\n",
       "      <td>00120</td>\n",
       "      <td>0</td>\n",
       "      <td>+</td>\n",
       "    </tr>\n",
       "  </tbody>\n",
       "</table>\n",
       "</div>"
      ],
      "text/plain": [
       "  A1     A2     A3 A4 A5 A6 A7    A8 A9 A10  A11 A12 A13    A14  A15 A16\n",
       "0  b  30.83  0.000  u  g  w  v  1.25  t   t    1   f   g  00202    0   +\n",
       "1  a  58.67  4.460  u  g  q  h  3.04  t   t    6   f   g  00043  560   +\n",
       "2  a  24.50  0.500  u  g  q  h  1.50  t   f    0   f   g  00280  824   +\n",
       "3  b  27.83  1.540  u  g  w  v  3.75  t   t    5   t   g  00100    3   +\n",
       "4  b  20.17  5.625  u  g  w  v  1.71  t   f    0   f   s  00120    0   +"
      ]
     },
     "execution_count": 28,
     "metadata": {},
     "output_type": "execute_result"
    }
   ],
   "source": [
    "data.head()"
   ]
  },
  {
   "cell_type": "markdown",
   "id": "0ec7fb80",
   "metadata": {},
   "source": [
    "Seprating Categorical and Numerical Columns\n",
    "Categorical:\n",
    "\n",
    "    - Nominal  (Categorical/No numerical value)\n",
    "        - gender\n",
    "        - race/ethnicity\n",
    "        - lunch\n",
    "        - test preparation course\n",
    "    - Odinal  (Order mtters but value doesn't)\n",
    "        - parental level of education\n",
    "Numerical:\n",
    "\n",
    "    - Continuous\n",
    "        - math score\n",
    "        - reading score\n",
    "        - writing score\n",
    "    - Discrete\n",
    "        - No column"
   ]
  },
  {
   "cell_type": "code",
   "execution_count": 30,
   "id": "40a11d7b",
   "metadata": {},
   "outputs": [
    {
     "data": {
      "text/plain": [
       "array(['b', 'a', '?'], dtype=object)"
      ]
     },
     "execution_count": 30,
     "metadata": {},
     "output_type": "execute_result"
    }
   ],
   "source": [
    "data['A1'].unique()"
   ]
  },
  {
   "cell_type": "code",
   "execution_count": 31,
   "id": "18b449b4",
   "metadata": {},
   "outputs": [
    {
     "data": {
      "text/plain": [
       "array(['30.83', '58.67', '24.50', '27.83', '20.17', '32.08', '33.17',\n",
       "       '22.92', '54.42', '42.50', '22.08', '29.92', '38.25', '48.08',\n",
       "       '45.83', '36.67', '28.25', '23.25', '21.83', '19.17', '25.00',\n",
       "       '47.75', '27.42', '41.17', '15.83', '47.00', '56.58', '57.42',\n",
       "       '42.08', '29.25', '42.00', '49.50', '36.75', '22.58', '27.25',\n",
       "       '23.00', '27.75', '54.58', '34.17', '28.92', '29.67', '39.58',\n",
       "       '56.42', '54.33', '41.00', '31.92', '41.50', '23.92', '25.75',\n",
       "       '26.00', '37.42', '34.92', '34.25', '23.33', '23.17', '44.33',\n",
       "       '35.17', '43.25', '56.75', '31.67', '23.42', '20.42', '26.67',\n",
       "       '36.00', '25.50', '19.42', '32.33', '34.83', '38.58', '44.25',\n",
       "       '44.83', '20.67', '34.08', '21.67', '21.50', '49.58', '27.67',\n",
       "       '39.83', '?', '37.17', '25.67', '34.00', '49.00', '62.50', '31.42',\n",
       "       '52.33', '28.75', '28.58', '22.50', '28.50', '37.50', '35.25',\n",
       "       '18.67', '54.83', '40.92', '19.75', '29.17', '24.58', '33.75',\n",
       "       '25.42', '37.75', '52.50', '57.83', '20.75', '39.92', '24.75',\n",
       "       '44.17', '23.50', '47.67', '22.75', '34.42', '28.42', '67.75',\n",
       "       '47.42', '36.25', '32.67', '48.58', '33.58', '18.83', '26.92',\n",
       "       '31.25', '56.50', '43.00', '22.33', '32.83', '40.33', '30.50',\n",
       "       '52.83', '46.67', '58.33', '37.33', '23.08', '32.75', '68.67',\n",
       "       '28.00', '44.00', '25.08', '32.00', '60.58', '40.83', '19.33',\n",
       "       '41.33', '56.00', '49.83', '22.67', '27.00', '26.08', '18.42',\n",
       "       '21.25', '57.08', '22.42', '48.75', '40.00', '40.58', '28.67',\n",
       "       '33.08', '21.33', '41.75', '34.50', '48.17', '27.58', '24.08',\n",
       "       '24.83', '36.33', '35.42', '71.58', '39.50', '39.33', '24.33',\n",
       "       '60.08', '55.92', '53.92', '18.92', '50.08', '65.42', '17.58',\n",
       "       '18.08', '19.67', '25.17', '33.50', '58.42', '26.17', '42.83',\n",
       "       '38.17', '20.50', '48.25', '28.33', '18.75', '18.50', '45.00',\n",
       "       '40.25', '41.42', '17.83', '18.17', '20.00', '52.17', '50.75',\n",
       "       '17.08', '18.33', '59.67', '18.00', '37.58', '30.67', '18.58',\n",
       "       '16.25', '21.17', '17.67', '16.50', '29.50', '21.75', '18.25',\n",
       "       '35.75', '16.08', '69.17', '32.92', '16.33', '22.17', '57.58',\n",
       "       '15.92', '31.75', '19.00', '17.50', '33.67', '30.17', '33.25',\n",
       "       '25.25', '34.75', '47.33', '39.08', '42.75', '38.92', '62.75',\n",
       "       '32.25', '26.75', '63.33', '30.75', '16.00', '19.50', '32.42',\n",
       "       '30.25', '26.83', '16.92', '24.42', '39.42', '23.58', '21.42',\n",
       "       '33.00', '26.33', '26.25', '28.17', '20.83', '43.17', '56.83',\n",
       "       '15.17', '29.83', '31.00', '51.92', '69.50', '19.58', '22.25',\n",
       "       '38.42', '26.58', '35.00', '29.42', '49.17', '51.83', '58.58',\n",
       "       '53.33', '27.17', '25.92', '30.58', '17.25', '27.33', '36.50',\n",
       "       '29.75', '52.42', '36.17', '34.58', '21.92', '36.58', '31.08',\n",
       "       '30.42', '21.08', '17.42', '39.17', '26.50', '17.33', '23.75',\n",
       "       '34.67', '74.83', '45.33', '47.25', '24.17', '39.25', '39.00',\n",
       "       '64.08', '31.33', '21.00', '13.75', '46.00', '20.25', '60.92',\n",
       "       '30.00', '22.83', '45.17', '41.58', '55.75', '25.33', '31.83',\n",
       "       '33.92', '24.92', '80.25', '30.08', '48.33', '76.75', '51.33',\n",
       "       '41.92', '29.58', '32.17', '51.42', '42.17', '43.08', '59.50',\n",
       "       '65.17', '20.33', '48.50', '28.08', '73.42', '51.58', '38.67',\n",
       "       '46.08', '20.08', '42.25', '16.17', '47.83', '22.00', '38.33',\n",
       "       '25.58', '21.58', '36.08', '38.75', '35.58', '31.58', '15.75',\n",
       "       '17.92', '30.33', '47.17', '25.83', '50.25', '36.42'], dtype=object)"
      ]
     },
     "execution_count": 31,
     "metadata": {},
     "output_type": "execute_result"
    }
   ],
   "source": [
    "data['A2'].unique()"
   ]
  },
  {
   "cell_type": "code",
   "execution_count": 32,
   "id": "61ef3bf8",
   "metadata": {},
   "outputs": [
    {
     "data": {
      "text/plain": [
       "array([ 0.   ,  4.46 ,  0.5  ,  1.54 ,  5.625,  4.   ,  1.04 , 11.585,\n",
       "        4.915,  0.83 ,  1.835,  6.   ,  6.04 , 10.5  ,  4.415,  0.875,\n",
       "        5.875,  0.25 ,  8.585, 11.25 ,  1.   ,  8.   , 14.5  ,  6.5  ,\n",
       "        0.585, 13.   , 18.5  ,  8.5  , 14.79 ,  9.79 ,  7.585,  5.125,\n",
       "       10.75 ,  1.5  ,  1.585, 11.75 ,  9.415,  9.17 , 15.   ,  1.415,\n",
       "       13.915, 28.   ,  6.75 ,  2.04 ,  0.665,  2.5  ,  3.   , 11.625,\n",
       "        4.5  , 12.25 , 16.165,  0.79 ,  0.835,  4.25 ,  0.375, 25.125,\n",
       "        7.5  ,  5.   ,  7.   ,  5.29 ,  1.165,  9.75 , 19.   ,  3.5  ,\n",
       "        0.625,  2.21 , 12.75 , 15.5  ,  1.375,  3.54 , 11.   ,  1.75 ,\n",
       "       16.5  , 12.   ,  2.25 ,  0.75 , 12.5  ,  1.25 ,  1.125,  7.04 ,\n",
       "       10.335,  6.21 ,  6.665,  9.   ,  5.5  ,  0.54 ,  2.75 ,  9.5  ,\n",
       "       13.5  ,  3.75 , 16.   ,  0.29 ,  1.665,  7.54 ,  0.46 , 10.   ,\n",
       "       11.5  ,  3.04 ,  2.   ,  0.08 ,  1.71 ,  3.25 ,  2.54 , 13.585,\n",
       "        8.665,  9.25 ,  8.17 ,  2.335, 19.5  ,  5.665,  4.625,  0.205,\n",
       "        0.96 ,  4.04 ,  5.04 ,  3.165,  7.625, 10.04 , 10.25 ,  2.125,\n",
       "        9.335,  6.625,  2.71 ,  9.625, 12.54 ,  9.54 ,  8.46 , 13.75 ,\n",
       "       21.   , 10.125, 25.085,  0.21 , 21.5  , 11.125, 11.045,  1.335,\n",
       "        0.085,  1.21 ,  0.165,  5.71 ,  5.415, 12.625,  0.58 ,  0.415,\n",
       "        2.415,  0.335,  3.125, 12.125,  2.875, 13.665, 26.335, 10.29 ,\n",
       "        1.29 , 22.   ,  0.125,  1.085,  4.085,  4.71 ,  6.165,  4.585,\n",
       "       11.46 , 14.585,  0.17 ,  1.625,  2.085,  5.085,  8.125,  2.835,\n",
       "        1.79 ,  0.705,  2.165,  2.29 , 18.125,  3.085, 11.665,  4.125,\n",
       "        1.08 , 13.335, 11.835,  4.79 ,  9.96 ,  7.08 , 25.21 ,  0.67 ,\n",
       "        3.79 , 22.29 ,  3.335,  0.42 ,  1.46 ,  0.04 , 12.33 , 12.335,\n",
       "        0.915, 14.   , 17.75 , 20.   ,  5.25 ,  4.165, 10.915,  4.75 ,\n",
       "       10.415,  7.835,  0.71 ,  2.46 ,  9.585,  3.625,  2.665,  5.835,\n",
       "       12.835, 10.665,  7.25 , 10.21 ,  3.29 , 10.085,  3.375])"
      ]
     },
     "execution_count": 32,
     "metadata": {},
     "output_type": "execute_result"
    }
   ],
   "source": [
    "data['A3'].unique()"
   ]
  },
  {
   "cell_type": "code",
   "execution_count": 33,
   "id": "fe6a32bc",
   "metadata": {},
   "outputs": [
    {
     "data": {
      "text/plain": [
       "array(['u', 'y', '?', 'l'], dtype=object)"
      ]
     },
     "execution_count": 33,
     "metadata": {},
     "output_type": "execute_result"
    }
   ],
   "source": [
    "data['A4'].unique()"
   ]
  },
  {
   "cell_type": "code",
   "execution_count": 34,
   "id": "223c701a",
   "metadata": {},
   "outputs": [
    {
     "data": {
      "text/plain": [
       "array(['g', 'p', '?', 'gg'], dtype=object)"
      ]
     },
     "execution_count": 34,
     "metadata": {},
     "output_type": "execute_result"
    }
   ],
   "source": [
    "data['A5'].unique()"
   ]
  },
  {
   "cell_type": "code",
   "execution_count": 35,
   "id": "992af9d8",
   "metadata": {},
   "outputs": [
    {
     "data": {
      "text/plain": [
       "array(['w', 'q', 'm', 'r', 'cc', 'k', 'c', 'd', 'x', 'i', 'e', 'aa', 'ff',\n",
       "       'j', '?'], dtype=object)"
      ]
     },
     "execution_count": 35,
     "metadata": {},
     "output_type": "execute_result"
    }
   ],
   "source": [
    "data['A6'].unique()"
   ]
  },
  {
   "cell_type": "code",
   "execution_count": 36,
   "id": "996a4f65",
   "metadata": {},
   "outputs": [
    {
     "data": {
      "text/plain": [
       "array(['v', 'h', 'bb', 'ff', 'j', 'z', '?', 'o', 'dd', 'n'], dtype=object)"
      ]
     },
     "execution_count": 36,
     "metadata": {},
     "output_type": "execute_result"
    }
   ],
   "source": [
    "data['A7'].unique()"
   ]
  },
  {
   "cell_type": "code",
   "execution_count": 37,
   "id": "9b9c06b6",
   "metadata": {},
   "outputs": [
    {
     "data": {
      "text/plain": [
       "array([ 1.25 ,  3.04 ,  1.5  ,  3.75 ,  1.71 ,  2.5  ,  6.5  ,  0.04 ,\n",
       "        3.96 ,  3.165,  2.165,  4.335,  1.   ,  5.   ,  0.25 ,  0.96 ,\n",
       "        3.17 ,  0.665,  0.75 ,  0.835,  7.875,  3.085,  0.5  ,  5.165,\n",
       "       15.   ,  7.   ,  5.04 ,  7.96 ,  7.585,  0.415,  2.   ,  1.835,\n",
       "       14.415,  4.5  ,  5.335,  8.625, 28.5  ,  2.625,  0.125,  6.04 ,\n",
       "        3.5  ,  0.165,  0.875,  1.75 ,  0.   ,  7.415,  0.085,  5.75 ,\n",
       "        6.   ,  3.   ,  1.585,  4.29 ,  1.54 ,  1.46 ,  1.625, 12.5  ,\n",
       "       13.5  , 10.75 ,  0.375,  0.585,  0.455,  4.   ,  8.5  ,  9.46 ,\n",
       "        2.25 , 10.   ,  0.795,  1.375,  1.29 , 11.5  ,  6.29 , 14.   ,\n",
       "        0.335,  1.21 ,  7.375,  7.5  ,  3.25 , 13.   ,  5.5  ,  4.25 ,\n",
       "        0.625,  5.085,  2.75 ,  2.375,  8.   ,  1.085,  2.54 ,  4.165,\n",
       "        1.665, 11.   ,  9.   ,  1.335,  1.415,  1.96 ,  2.585,  5.125,\n",
       "       15.5  ,  0.71 ,  5.665, 18.   ,  5.25 ,  8.665,  2.29 , 20.   ,\n",
       "        2.46 , 13.875,  2.085,  4.58 ,  2.71 ,  2.04 ,  0.29 ,  4.75 ,\n",
       "        0.46 ,  0.21 ,  0.54 ,  3.335,  2.335,  1.165,  2.415,  2.79 ,\n",
       "        4.625,  1.04 ,  6.75 ,  1.875, 16.   , 12.75 ,  5.375,  2.125,\n",
       "       17.5  ,  3.125,  0.79 ,  8.29 ])"
      ]
     },
     "execution_count": 37,
     "metadata": {},
     "output_type": "execute_result"
    }
   ],
   "source": [
    "data['A8'].unique()"
   ]
  },
  {
   "cell_type": "code",
   "execution_count": 38,
   "id": "5f421607",
   "metadata": {},
   "outputs": [
    {
     "data": {
      "text/plain": [
       "array(['t', 'f'], dtype=object)"
      ]
     },
     "execution_count": 38,
     "metadata": {},
     "output_type": "execute_result"
    }
   ],
   "source": [
    "data['A9'].unique()"
   ]
  },
  {
   "cell_type": "code",
   "execution_count": 39,
   "id": "ee4a611b",
   "metadata": {},
   "outputs": [
    {
     "data": {
      "text/plain": [
       "array(['t', 'f'], dtype=object)"
      ]
     },
     "execution_count": 39,
     "metadata": {},
     "output_type": "execute_result"
    }
   ],
   "source": [
    "data['A10'].unique()"
   ]
  },
  {
   "cell_type": "code",
   "execution_count": 40,
   "id": "1f30c7a0",
   "metadata": {},
   "outputs": [
    {
     "data": {
      "text/plain": [
       "array([ 1,  6,  0,  5,  7, 10,  3, 17,  2,  9,  8, 15, 11, 12, 40, 23,  4,\n",
       "       20, 67, 14, 16, 13, 19], dtype=int64)"
      ]
     },
     "execution_count": 40,
     "metadata": {},
     "output_type": "execute_result"
    }
   ],
   "source": [
    "data['A11'].unique()"
   ]
  },
  {
   "cell_type": "code",
   "execution_count": 41,
   "id": "00f558b5",
   "metadata": {},
   "outputs": [
    {
     "data": {
      "text/plain": [
       "array(['f', 't'], dtype=object)"
      ]
     },
     "execution_count": 41,
     "metadata": {},
     "output_type": "execute_result"
    }
   ],
   "source": [
    "data['A12'].unique()"
   ]
  },
  {
   "cell_type": "code",
   "execution_count": 42,
   "id": "99b5bbc4",
   "metadata": {},
   "outputs": [
    {
     "data": {
      "text/plain": [
       "array(['g', 's', 'p'], dtype=object)"
      ]
     },
     "execution_count": 42,
     "metadata": {},
     "output_type": "execute_result"
    }
   ],
   "source": [
    "data['A13'].unique()"
   ]
  },
  {
   "cell_type": "code",
   "execution_count": 43,
   "id": "a158f902",
   "metadata": {},
   "outputs": [
    {
     "data": {
      "text/plain": [
       "array(['00202', '00043', '00280', '00100', '00120', '00360', '00164',\n",
       "       '00080', '00180', '00052', '00128', '00260', '00000', '00320',\n",
       "       '00396', '00096', '00200', '00300', '00145', '00500', '00168',\n",
       "       '00434', '00583', '00030', '00240', '00070', '00455', '00311',\n",
       "       '00216', '00491', '00400', '00239', '00160', '00711', '00250',\n",
       "       '00520', '00515', '00420', '?', '00980', '00443', '00140', '00094',\n",
       "       '00368', '00288', '00928', '00188', '00112', '00171', '00268',\n",
       "       '00167', '00075', '00152', '00176', '00329', '00212', '00410',\n",
       "       '00274', '00375', '00408', '00350', '00204', '00040', '00181',\n",
       "       '00399', '00440', '00093', '00060', '00395', '00393', '00021',\n",
       "       '00029', '00102', '00431', '00370', '00024', '00020', '00129',\n",
       "       '00510', '00195', '00144', '00380', '00049', '00050', '00381',\n",
       "       '00150', '00117', '00056', '00211', '00230', '00156', '00022',\n",
       "       '00228', '00519', '00253', '00487', '00220', '00088', '00073',\n",
       "       '00121', '00470', '00136', '00132', '00292', '00154', '00272',\n",
       "       '00340', '00108', '00720', '00450', '00232', '00170', '01160',\n",
       "       '00411', '00460', '00348', '00480', '00640', '00372', '00276',\n",
       "       '00221', '00352', '00141', '00178', '00600', '00550', '02000',\n",
       "       '00225', '00210', '00110', '00356', '00045', '00062', '00092',\n",
       "       '00174', '00017', '00086', '00454', '00254', '00028', '00263',\n",
       "       '00333', '00312', '00290', '00371', '00099', '00252', '00760',\n",
       "       '00560', '00130', '00523', '00680', '00163', '00208', '00383',\n",
       "       '00330', '00422', '00840', '00432', '00032', '00186', '00303',\n",
       "       '00349', '00224', '00369', '00076', '00231', '00309', '00416',\n",
       "       '00465', '00256'], dtype=object)"
      ]
     },
     "execution_count": 43,
     "metadata": {},
     "output_type": "execute_result"
    }
   ],
   "source": [
    "data['A14'].unique()"
   ]
  },
  {
   "cell_type": "code",
   "execution_count": 45,
   "id": "b2c3573e",
   "metadata": {},
   "outputs": [
    {
     "data": {
      "text/plain": [
       "array([     0,    560,    824,      3,  31285,   1349,    314,   1442,\n",
       "          200,   2690,    245,   1208,   1260,     11,  10000,   5000,\n",
       "         4000,     35,    713,    551,    500,    300,    221,   2283,\n",
       "          100,     15,    284,   1236,   5800,    730,    400,  50000,\n",
       "          456,  15108,   2954,      2,     20,     27,    225,      1,\n",
       "           38,      5,    130,    147,    210,  11202,   1332,     50,\n",
       "          258,    567,   1000,   2510,    809,    610,    150,  51100,\n",
       "          367,    600,    247,    375,    278,    827,   2072,    582,\n",
       "         2300,   3065,   2200,      6,   1602,   2184,   3376,   2000,\n",
       "         7544,  10561,    837,  11177,    639,   2028,   1065,    540,\n",
       "          158,  15000,   3000,   3257,   1655,   1430,      7,    790,\n",
       "          396,    678,   1187,   6590,    168,   1270,   1210,    742,\n",
       "         8851,   7059,   1704,    857,   6700,   2503,   9800,    196,\n",
       "           14,  26726,  18027,     99,    444,   1200,   2010,     13,\n",
       "          120,     32,    722,     40,    484,    204,     98,   5552,\n",
       "          105,   2803,    126,      4,     21,    173,     10,     25,\n",
       "           42, 100000,    113,      8,     44,   2732,    179,     16,\n",
       "         1062,    251,    228,     67,     12,    122,   4208,   1300,\n",
       "          112,   1110,   1004,    286,   4500,   1212,    195,     87,\n",
       "           17,    184,    140,     18,    146,     22,     55,     70,\n",
       "           60,   1058,    769,   5200,     19,    316,    350,   3552,\n",
       "          687,   1950,     53,     41,     33,     80,    351,   2100,\n",
       "          475,    892,   4607,   2206,   5860,     28,   1391,   2279,\n",
       "          591,    960,    690,    234,    800,    990,   2197,     90,\n",
       "          340,    347,    327,   4071,    109,   1249,    134,   1344,\n",
       "          321,    948,   2079,   2384,    458,   5298,    162,   1583,\n",
       "           58,     59,   1400,   1465,   8000,   4700,   1097,   3290,\n",
       "        13212,   5777,   5124,     23,   4159,    918,    768,    283,\n",
       "          108,      9,     68,    587,    141,    501,    160,    390,\n",
       "          154,    117,    246,    237,    364,    537,    394,    750],\n",
       "      dtype=int64)"
      ]
     },
     "execution_count": 45,
     "metadata": {},
     "output_type": "execute_result"
    }
   ],
   "source": [
    "data['A15'].unique()"
   ]
  },
  {
   "cell_type": "code",
   "execution_count": 46,
   "id": "33bcce7d",
   "metadata": {},
   "outputs": [
    {
     "data": {
      "text/plain": [
       "array(['+', '-'], dtype=object)"
      ]
     },
     "execution_count": 46,
     "metadata": {},
     "output_type": "execute_result"
    }
   ],
   "source": [
    "data['A16'].unique()"
   ]
  },
  {
   "cell_type": "markdown",
   "id": "9e5d135a",
   "metadata": {},
   "source": [
    "# Replacing character"
   ]
  },
  {
   "cell_type": "code",
   "execution_count": 48,
   "id": "ac839ce1",
   "metadata": {},
   "outputs": [],
   "source": [
    "data = data.replace('?', np.nan)"
   ]
  },
  {
   "cell_type": "code",
   "execution_count": 49,
   "id": "f44a066d",
   "metadata": {},
   "outputs": [
    {
     "name": "stdout",
     "output_type": "stream",
     "text": [
      "<class 'pandas.core.frame.DataFrame'>\n",
      "RangeIndex: 690 entries, 0 to 689\n",
      "Data columns (total 16 columns):\n",
      " #   Column  Non-Null Count  Dtype  \n",
      "---  ------  --------------  -----  \n",
      " 0   A1      678 non-null    object \n",
      " 1   A2      678 non-null    object \n",
      " 2   A3      690 non-null    float64\n",
      " 3   A4      684 non-null    object \n",
      " 4   A5      684 non-null    object \n",
      " 5   A6      681 non-null    object \n",
      " 6   A7      681 non-null    object \n",
      " 7   A8      690 non-null    float64\n",
      " 8   A9      690 non-null    object \n",
      " 9   A10     690 non-null    object \n",
      " 10  A11     690 non-null    int64  \n",
      " 11  A12     690 non-null    object \n",
      " 12  A13     690 non-null    object \n",
      " 13  A14     677 non-null    object \n",
      " 14  A15     690 non-null    int64  \n",
      " 15  A16     690 non-null    object \n",
      "dtypes: float64(2), int64(2), object(12)\n",
      "memory usage: 86.4+ KB\n"
     ]
    }
   ],
   "source": [
    "data.info()"
   ]
  },
  {
   "cell_type": "code",
   "execution_count": 50,
   "id": "97065154",
   "metadata": {},
   "outputs": [],
   "source": [
    "data['A2'] = data['A2'].astype(float)"
   ]
  },
  {
   "cell_type": "code",
   "execution_count": 51,
   "id": "3c07e0ef",
   "metadata": {},
   "outputs": [],
   "source": [
    "data['A14'] = data['A14'].astype(float)"
   ]
  },
  {
   "cell_type": "code",
   "execution_count": 52,
   "id": "1c31d0ba",
   "metadata": {},
   "outputs": [],
   "source": [
    "data['A16'] = data['A16'].map({'+':1, '-':0})"
   ]
  },
  {
   "cell_type": "markdown",
   "id": "af7b3f60",
   "metadata": {},
   "source": [
    "Add some missing values at random positions in four variables:"
   ]
  },
  {
   "cell_type": "code",
   "execution_count": 55,
   "id": "141f66a8",
   "metadata": {},
   "outputs": [],
   "source": [
    "random.seed(9001)    # Seed function is used to save the state of a random function\n",
    "values = set([random.randint(0, len(data)) for p in range(0, 100)])\n",
    "for var in ['A3', 'A8', 'A9', 'A10']:\n",
    " data.loc[values, var] = np.nan"
   ]
  },
  {
   "cell_type": "markdown",
   "id": "3a88b305",
   "metadata": {},
   "source": [
    "# Removing observations with missing data"
   ]
  },
  {
   "cell_type": "code",
   "execution_count": 118,
   "id": "e513fd63",
   "metadata": {},
   "outputs": [],
   "source": [
    "df = data"
   ]
  },
  {
   "cell_type": "code",
   "execution_count": 120,
   "id": "9cfea912",
   "metadata": {},
   "outputs": [
    {
     "data": {
      "text/plain": [
       "A1     12\n",
       "A2     12\n",
       "A3     92\n",
       "A4      6\n",
       "A5      6\n",
       "A6      9\n",
       "A7      9\n",
       "A8     92\n",
       "A9     92\n",
       "A10    92\n",
       "A11     0\n",
       "A12     0\n",
       "A13     0\n",
       "A14    13\n",
       "A15     0\n",
       "A16     0\n",
       "dtype: int64"
      ]
     },
     "execution_count": 120,
     "metadata": {},
     "output_type": "execute_result"
    }
   ],
   "source": [
    "df.isnull().sum()"
   ]
  },
  {
   "cell_type": "code",
   "execution_count": 121,
   "id": "6e9a81fa",
   "metadata": {},
   "outputs": [],
   "source": [
    "values = ['A'+str(s) for s in range(1,17)]"
   ]
  },
  {
   "cell_type": "code",
   "execution_count": 122,
   "id": "dbfbe3a0",
   "metadata": {},
   "outputs": [],
   "source": [
    "df.columns = values"
   ]
  },
  {
   "cell_type": "code",
   "execution_count": 141,
   "id": "326839ec",
   "metadata": {},
   "outputs": [
    {
     "ename": "AttributeError",
     "evalue": "'float' object has no attribute 'sort_values'",
     "output_type": "error",
     "traceback": [
      "\u001b[1;31m---------------------------------------------------------------------------\u001b[0m",
      "\u001b[1;31mAttributeError\u001b[0m                            Traceback (most recent call last)",
      "Input \u001b[1;32mIn [141]\u001b[0m, in \u001b[0;36m<cell line: 3>\u001b[1;34m()\u001b[0m\n\u001b[0;32m      1\u001b[0m \u001b[38;5;66;03m# Let's calculate the percentage of missing values for each variable and sort them in ascending order:\u001b[39;00m\n\u001b[1;32m----> 3\u001b[0m \u001b[43mdf\u001b[49m\u001b[38;5;241;43m.\u001b[39;49m\u001b[43misnull\u001b[49m\u001b[43m(\u001b[49m\u001b[43m)\u001b[49m\u001b[38;5;241;43m.\u001b[39;49m\u001b[43msum\u001b[49m\u001b[43m(\u001b[49m\u001b[43m)\u001b[49m\u001b[38;5;241;43m.\u001b[39;49m\u001b[43mmean\u001b[49m\u001b[43m(\u001b[49m\u001b[43m)\u001b[49m\u001b[38;5;241;43m.\u001b[39;49m\u001b[43msort_values\u001b[49m(ascending\u001b[38;5;241m=\u001b[39m\u001b[38;5;28;01mTrue\u001b[39;00m)\n",
      "\u001b[1;31mAttributeError\u001b[0m: 'float' object has no attribute 'sort_values'"
     ]
    }
   ],
   "source": [
    "# Let's calculate the percentage of missing values for each variable and sort them in ascending order:\n",
    "\n",
    "df.isnull().sum().mean().sort_values(ascending=True)"
   ]
  },
  {
   "cell_type": "code",
   "execution_count": 124,
   "id": "8913e714",
   "metadata": {},
   "outputs": [
    {
     "data": {
      "text/plain": [
       "A1     12\n",
       "A2     12\n",
       "A3     92\n",
       "A4      6\n",
       "A5      6\n",
       "A6      9\n",
       "A7      9\n",
       "A8     92\n",
       "A9     92\n",
       "A10    92\n",
       "A11     0\n",
       "A12     0\n",
       "A13     0\n",
       "A14    13\n",
       "A15     0\n",
       "A16     0\n",
       "dtype: int64"
      ]
     },
     "execution_count": 124,
     "metadata": {},
     "output_type": "execute_result"
    }
   ],
   "source": [
    "df.isnull().sum()"
   ]
  },
  {
   "cell_type": "code",
   "execution_count": 125,
   "id": "2ef40893",
   "metadata": {},
   "outputs": [],
   "source": [
    "#  Now, we'll remove the observations with missing data in any of the variables:\n",
    "\n",
    "df_cca = df.dropna()"
   ]
  },
  {
   "cell_type": "code",
   "execution_count": 126,
   "id": "5d82efb8",
   "metadata": {},
   "outputs": [
    {
     "name": "stdout",
     "output_type": "stream",
     "text": [
      "Number of total observations: 690\n",
      "Number of observations with complete cases:564\n"
     ]
    }
   ],
   "source": [
    "# Let's print and compare the size of the original and complete case datasets\n",
    "\n",
    "print('Number of total observations: {}'.format(len(df)))\n",
    "print('Number of observations with complete cases:{}'.format(len(df_cca)))\n",
    "      "
   ]
  },
  {
   "cell_type": "markdown",
   "id": "1ac60ff8",
   "metadata": {},
   "source": [
    "# Performing mean or median imputation"
   ]
  },
  {
   "cell_type": "code",
   "execution_count": 106,
   "id": "d91f1105",
   "metadata": {},
   "outputs": [],
   "source": [
    "import pandas as pd\n",
    "from sklearn.model_selection import train_test_split\n",
    "from sklearn.impute import SimpleImputer\n",
    "from feature_engine.imputation import MeanMedianImputer"
   ]
  },
  {
   "cell_type": "code",
   "execution_count": 143,
   "id": "1aadc6fa",
   "metadata": {},
   "outputs": [],
   "source": [
    "df1 = data"
   ]
  },
  {
   "cell_type": "code",
   "execution_count": 144,
   "id": "2d0f0c04",
   "metadata": {},
   "outputs": [],
   "source": [
    "values = ['A'+str(s) for s in range(1,17)]"
   ]
  },
  {
   "cell_type": "code",
   "execution_count": 145,
   "id": "435e1357",
   "metadata": {},
   "outputs": [],
   "source": [
    "df1.columns = values"
   ]
  },
  {
   "cell_type": "code",
   "execution_count": 146,
   "id": "b7680fe2",
   "metadata": {},
   "outputs": [],
   "source": [
    "\"\"\" In mean and median imputation, the mean or median values should be\n",
    "calculated using the variables in the train set; therefore, let's separate the data\n",
    "into train and test sets and their respective targets: \"\"\"\n",
    "\n",
    "X_train, X_test, y_train, y_test = train_test_split(\n",
    " df1.drop('A16', axis=1), df1['A16'], test_size=0.3,\n",
    " random_state=0)"
   ]
  },
  {
   "cell_type": "code",
   "execution_count": 147,
   "id": "8f83fd4c",
   "metadata": {},
   "outputs": [
    {
     "data": {
      "text/plain": [
       "(483, 15)"
      ]
     },
     "execution_count": 147,
     "metadata": {},
     "output_type": "execute_result"
    }
   ],
   "source": [
    "X_train.shape"
   ]
  },
  {
   "cell_type": "code",
   "execution_count": 148,
   "id": "c1a3b8dc",
   "metadata": {},
   "outputs": [
    {
     "data": {
      "text/plain": [
       "(483,)"
      ]
     },
     "execution_count": 148,
     "metadata": {},
     "output_type": "execute_result"
    }
   ],
   "source": [
    "y_train.shape"
   ]
  },
  {
   "cell_type": "code",
   "execution_count": 149,
   "id": "815eece4",
   "metadata": {},
   "outputs": [
    {
     "data": {
      "text/plain": [
       "A1     0.008282\n",
       "A2     0.022774\n",
       "A3     0.140787\n",
       "A4     0.008282\n",
       "A5     0.008282\n",
       "A6     0.008282\n",
       "A7     0.008282\n",
       "A8     0.140787\n",
       "A9     0.140787\n",
       "A10    0.140787\n",
       "A11    0.000000\n",
       "A12    0.000000\n",
       "A13    0.000000\n",
       "A14    0.014493\n",
       "A15    0.000000\n",
       "dtype: float64"
      ]
     },
     "execution_count": 149,
     "metadata": {},
     "output_type": "execute_result"
    }
   ],
   "source": [
    "# Let's check the percentage of missing values in the train set:\n",
    "\n",
    "X_train.isnull().mean()"
   ]
  },
  {
   "cell_type": "code",
   "execution_count": 150,
   "id": "8e2b7b4e",
   "metadata": {},
   "outputs": [
    {
     "data": {
      "text/plain": [
       "A1     12\n",
       "A2     12\n",
       "A3     92\n",
       "A4      6\n",
       "A5      6\n",
       "A6      9\n",
       "A7      9\n",
       "A8     92\n",
       "A9     92\n",
       "A10    92\n",
       "A11     0\n",
       "A12     0\n",
       "A13     0\n",
       "A14    13\n",
       "A15     0\n",
       "A16     0\n",
       "dtype: int64"
      ]
     },
     "execution_count": 150,
     "metadata": {},
     "output_type": "execute_result"
    }
   ],
   "source": [
    "data.isnull().sum()"
   ]
  },
  {
   "cell_type": "code",
   "execution_count": 151,
   "id": "6fdb7a8a",
   "metadata": {},
   "outputs": [],
   "source": [
    "# Let's replace the missing values with the median in five numerical variables using pandas:\n",
    "\n",
    "for var in ['A2', 'A3', 'A8', 'A11', 'A15']:\n",
    " value = X_train[var].median()\n",
    " X_train[var] = X_train[var].fillna(value)\n",
    " X_test[var] = X_test[var].fillna(value)"
   ]
  },
  {
   "cell_type": "code",
   "execution_count": 157,
   "id": "bbd035d9",
   "metadata": {},
   "outputs": [
    {
     "data": {
      "text/plain": [
       "966.2525879917184"
      ]
     },
     "execution_count": 157,
     "metadata": {},
     "output_type": "execute_result"
    }
   ],
   "source": [
    "# To impute missing data with the mean,\n",
    "\n",
    "value = X_train[var].mean()\n",
    "value"
   ]
  },
  {
   "cell_type": "code",
   "execution_count": 158,
   "id": "7797c99d",
   "metadata": {},
   "outputs": [],
   "source": [
    "# To do this, let's separate the original dataset into train and test sets, \n",
    "# keeping only the numerical variables\n",
    "\n",
    "X_train, X_test, y_train, y_test = train_test_split(\n",
    " data[['A2', 'A3', 'A8', 'A11', 'A15']], data['A16'],\n",
    " test_size=0.3, random_state=0)\n"
   ]
  },
  {
   "cell_type": "code",
   "execution_count": 161,
   "id": "d7369eee",
   "metadata": {},
   "outputs": [],
   "source": [
    "# Let's create a median imputation transformer using SimpleImputer() from scikit-learn:\n",
    "\n",
    "imputer = SimpleImputer(strategy='median')\n",
    "\n",
    "# To perform mean imputation, we should set the strategy to mean:\n",
    "imputer1 = SimpleImputer(strategy = 'mean')"
   ]
  },
  {
   "cell_type": "code",
   "execution_count": 162,
   "id": "ed586936",
   "metadata": {},
   "outputs": [
    {
     "data": {
      "text/plain": [
       "SimpleImputer(strategy='median')"
      ]
     },
     "execution_count": 162,
     "metadata": {},
     "output_type": "execute_result"
    }
   ],
   "source": [
    "# Let's fit the SimpleImputer() to the train set so that it learns the median values of the variables:\n",
    "\n",
    "imputer.fit(X_train)"
   ]
  },
  {
   "cell_type": "code",
   "execution_count": 163,
   "id": "fde3510d",
   "metadata": {},
   "outputs": [
    {
     "data": {
      "text/plain": [
       "array([28.835,  2.75 ,  1.   ,  0.   ,  6.   ])"
      ]
     },
     "execution_count": 163,
     "metadata": {},
     "output_type": "execute_result"
    }
   ],
   "source": [
    "# Let's inspect the learned median values:\n",
    "\n",
    "imputer.statistics_\n"
   ]
  },
  {
   "cell_type": "code",
   "execution_count": 164,
   "id": "880e3548",
   "metadata": {},
   "outputs": [],
   "source": [
    "# Let's replace missing values with medians:\n",
    "\n",
    "X_train = imputer.transform(X_train)\n",
    "X_test = imputer.transform(X_test)"
   ]
  },
  {
   "cell_type": "markdown",
   "id": "96862a75",
   "metadata": {},
   "source": [
    "# Implementing mode or frequent category imputation\n"
   ]
  },
  {
   "cell_type": "code",
   "execution_count": null,
   "id": "fa51dbef",
   "metadata": {},
   "outputs": [],
   "source": []
  }
 ],
 "metadata": {
  "kernelspec": {
   "display_name": "Python 3 (ipykernel)",
   "language": "python",
   "name": "python3"
  },
  "language_info": {
   "codemirror_mode": {
    "name": "ipython",
    "version": 3
   },
   "file_extension": ".py",
   "mimetype": "text/x-python",
   "name": "python",
   "nbconvert_exporter": "python",
   "pygments_lexer": "ipython3",
   "version": "3.9.12"
  }
 },
 "nbformat": 4,
 "nbformat_minor": 5
}
