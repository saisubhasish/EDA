{
 "cells": [
  {
   "cell_type": "code",
   "execution_count": 1,
   "id": "24f3db8e",
   "metadata": {},
   "outputs": [],
   "source": [
    "import pandas as pd"
   ]
  },
  {
   "cell_type": "markdown",
   "id": "d008def4",
   "metadata": {},
   "source": [
    "# Working with Outliers"
   ]
  },
  {
   "cell_type": "markdown",
   "id": "a6ede7a1",
   "metadata": {},
   "source": [
    "An outlier is a data point that is significantly different from the remaining data. Statistical\n",
    "parameters such as the mean and variance are sensitive to outliers.\n",
    "\n",
    "Ways to handle outliers\n",
    "- Trimming outliers from the dataset\n",
    "- Performing winsorization\n",
    "- Capping the variable at arbitrary maximum and minimum values\n",
    "- Performing zero-coding – capping the variable values at zero"
   ]
  },
  {
   "cell_type": "code",
   "execution_count": 6,
   "id": "d0bdbb7c",
   "metadata": {},
   "outputs": [],
   "source": [
    "import numpy as np\n",
    "import matplotlib.pyplot as plt\n",
    "import seaborn as sns\n",
    "from sklearn.datasets import load_boston\n",
    "import warnings\n",
    "warnings. simplefilter(\"ignore\")"
   ]
  },
  {
   "cell_type": "code",
   "execution_count": 7,
   "id": "cbd6c1b4",
   "metadata": {},
   "outputs": [],
   "source": [
    "# Let's load the Boston House Prices dataset from scikit-learn:\n",
    "\n",
    "boston_dataset = load_boston()"
   ]
  },
  {
   "cell_type": "code",
   "execution_count": 8,
   "id": "c8a67799",
   "metadata": {},
   "outputs": [],
   "source": [
    "boston = pd.DataFrame(boston_dataset.data, \n",
    "                      columns= boston_dataset.feature_names)[['RM', 'LSTAT', 'CRIM']]"
   ]
  },
  {
   "cell_type": "code",
   "execution_count": 9,
   "id": "ff6eeb8e",
   "metadata": {},
   "outputs": [
    {
     "data": {
      "text/html": [
       "<div>\n",
       "<style scoped>\n",
       "    .dataframe tbody tr th:only-of-type {\n",
       "        vertical-align: middle;\n",
       "    }\n",
       "\n",
       "    .dataframe tbody tr th {\n",
       "        vertical-align: top;\n",
       "    }\n",
       "\n",
       "    .dataframe thead th {\n",
       "        text-align: right;\n",
       "    }\n",
       "</style>\n",
       "<table border=\"1\" class=\"dataframe\">\n",
       "  <thead>\n",
       "    <tr style=\"text-align: right;\">\n",
       "      <th></th>\n",
       "      <th>RM</th>\n",
       "      <th>LSTAT</th>\n",
       "      <th>CRIM</th>\n",
       "    </tr>\n",
       "  </thead>\n",
       "  <tbody>\n",
       "    <tr>\n",
       "      <th>0</th>\n",
       "      <td>6.575</td>\n",
       "      <td>4.98</td>\n",
       "      <td>0.00632</td>\n",
       "    </tr>\n",
       "    <tr>\n",
       "      <th>1</th>\n",
       "      <td>6.421</td>\n",
       "      <td>9.14</td>\n",
       "      <td>0.02731</td>\n",
       "    </tr>\n",
       "    <tr>\n",
       "      <th>2</th>\n",
       "      <td>7.185</td>\n",
       "      <td>4.03</td>\n",
       "      <td>0.02729</td>\n",
       "    </tr>\n",
       "    <tr>\n",
       "      <th>3</th>\n",
       "      <td>6.998</td>\n",
       "      <td>2.94</td>\n",
       "      <td>0.03237</td>\n",
       "    </tr>\n",
       "    <tr>\n",
       "      <th>4</th>\n",
       "      <td>7.147</td>\n",
       "      <td>5.33</td>\n",
       "      <td>0.06905</td>\n",
       "    </tr>\n",
       "  </tbody>\n",
       "</table>\n",
       "</div>"
      ],
      "text/plain": [
       "      RM  LSTAT     CRIM\n",
       "0  6.575   4.98  0.00632\n",
       "1  6.421   9.14  0.02731\n",
       "2  7.185   4.03  0.02729\n",
       "3  6.998   2.94  0.03237\n",
       "4  7.147   5.33  0.06905"
      ]
     },
     "execution_count": 9,
     "metadata": {},
     "output_type": "execute_result"
    }
   ],
   "source": [
    "boston.head()"
   ]
  },
  {
   "cell_type": "code",
   "execution_count": 18,
   "id": "b4351411",
   "metadata": {},
   "outputs": [
    {
     "data": {
      "text/plain": [
       "<AxesSubplot:xlabel='RM'>"
      ]
     },
     "execution_count": 18,
     "metadata": {},
     "output_type": "execute_result"
    },
    {
     "data": {
      "image/png": "[encoded data removed]",
      "text/plain": [
       "<Figure size 432x288 with 1 Axes>"
      ]
     },
     "metadata": {
      "needs_background": "light"
     },
     "output_type": "display_data"
    }
   ],
   "source": [
    "sns.boxplot(boston['RM'])"
   ]
  },
  {
   "cell_type": "markdown",
   "id": "f2594988",
   "metadata": {},
   "source": [
    "Let's create a function to find the boundaries of a variable distribution, using the\n",
    "inter-quartile range proximity rule:\n"
   ]
  },
  {
   "cell_type": "code",
   "execution_count": 15,
   "id": "d68651ec",
   "metadata": {},
   "outputs": [],
   "source": [
    "def find_boundaries(df, variable, distance):\n",
    " IQR = df[variable].quantile(0.75) - df[variable].quantile(0.25)\n",
    " lower_boundary = df[variable].quantile(0.25) - (IQR * distance)\n",
    " upper_boundary = df[variable].quantile(0.75) + (IQR * distance)\n",
    " return upper_boundary, lower_boundary\n"
   ]
  },
  {
   "cell_type": "code",
   "execution_count": 20,
   "id": "0dd73c29",
   "metadata": {},
   "outputs": [],
   "source": [
    "#  Let's use the function from step 5 to determine the limits of the RM variable:\n",
    "\n",
    "RM_upper_limit, RM_lower_limit = find_boundaries(boston, 'RM', 1.5)"
   ]
  },
  {
   "cell_type": "code",
   "execution_count": 21,
   "id": "f72fece8",
   "metadata": {},
   "outputs": [
    {
     "data": {
      "text/plain": [
       "(7.730500000000001, 4.778499999999999)"
      ]
     },
     "execution_count": 21,
     "metadata": {},
     "output_type": "execute_result"
    }
   ],
   "source": [
    "# Let's print those limits beyond which we will consider a value an outlier:\n",
    "\n",
    "RM_upper_limit, RM_lower_limit"
   ]
  },
  {
   "cell_type": "code",
   "execution_count": 28,
   "id": "68573134",
   "metadata": {},
   "outputs": [
    {
     "ename": "SyntaxError",
     "evalue": "unexpected EOF while parsing (2993451490.py, line 3)",
     "output_type": "error",
     "traceback": [
      "\u001b[1;36m  Input \u001b[1;32mIn [28]\u001b[1;36m\u001b[0m\n\u001b[1;33m    outliers_RM = np.where(boston['RM'] > RM_upper_limit, True, np.where(boston['RM'] < RM_lower_limit, True, False)\u001b[0m\n\u001b[1;37m                                                                                                                    ^\u001b[0m\n\u001b[1;31mSyntaxError\u001b[0m\u001b[1;31m:\u001b[0m unexpected EOF while parsing\n"
     ]
    }
   ],
   "source": [
    "# Let's create a Boolean vector to flag the outliers in RM\n",
    "\n",
    "outliers_RM = np.where(boston['RM'] > RM_upper_limit, True, np.where(boston['RM'] < RM_lower_limit, True, False)\n"
   ]
  },
  {
   "cell_type": "code",
   "execution_count": null,
   "id": "3f15856b",
   "metadata": {},
   "outputs": [],
   "source": []
  }
 ],
 "metadata": {
  "kernelspec": {
   "display_name": "Python 3 (ipykernel)",
   "language": "python",
   "name": "python3"
  },
  "language_info": {
   "codemirror_mode": {
    "name": "ipython",
    "version": 3
   },
   "file_extension": ".py",
   "mimetype": "text/x-python",
   "name": "python",
   "nbconvert_exporter": "python",
   "pygments_lexer": "ipython3",
   "version": "3.9.12"
  }
 },
 "nbformat": 4,
 "nbformat_minor": 5
}
